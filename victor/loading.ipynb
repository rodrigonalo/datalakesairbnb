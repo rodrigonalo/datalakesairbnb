{
 "cells": [
  {
   "cell_type": "code",
   "execution_count": 9,
   "metadata": {},
   "outputs": [
    {
     "name": "stdout",
     "output_type": "stream",
     "text": [
      "Connection successful!\n"
     ]
    }
   ],
   "source": [
    "import pymssql\n",
    "\n",
    "# Azure SQL connection details\n",
    "server = 'servidorparadatalakes.database.windows.net'\n",
    "database = 'datalakeshslu@outlook.com'\n",
    "username = 'datalakeshslu@outlook.com@servidorparadatalakes'\n",
    "password = 'victordanielrodigo.1'  # Replace with your actual password\n",
    "\n",
    "try:\n",
    "    # Establish a connection to the database\n",
    "    connection = pymssql.connect(server=server, user=username, password=password, database=database)\n",
    "    print(\"Connection successful!\")\n",
    "    \n",
    "    # Close the connection\n",
    "    connection.close()\n",
    "\n",
    "except Exception as e:\n",
    "    print(f\"Error: {e}\")\n"
   ]
  }
 ],
 "metadata": {
  "kernelspec": {
   "display_name": "Python 3",
   "language": "python",
   "name": "python3"
  },
  "language_info": {
   "codemirror_mode": {
    "name": "ipython",
    "version": 3
   },
   "file_extension": ".py",
   "mimetype": "text/x-python",
   "name": "python",
   "nbconvert_exporter": "python",
   "pygments_lexer": "ipython3",
   "version": "3.11.9"
  }
 },
 "nbformat": 4,
 "nbformat_minor": 2
}
