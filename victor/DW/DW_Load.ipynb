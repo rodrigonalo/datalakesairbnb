{
 "cells": [
  {
   "cell_type": "markdown",
   "metadata": {
    "application/vnd.databricks.v1+cell": {
     "cellMetadata": {},
     "inputWidgets": {},
     "nuid": "a6616c4f-382a-4ef6-9966-39fe790862fc",
     "showTitle": false,
     "tableResultSettingsMap": {},
     "title": ""
    }
   },
   "source": [
    "# Load"
   ]
  },
  {
   "cell_type": "code",
   "execution_count": 62,
   "metadata": {
    "application/vnd.databricks.v1+cell": {
     "cellMetadata": {},
     "inputWidgets": {},
     "nuid": "276452d5-0435-40e2-bf48-a8b5ca301c1d",
     "showTitle": false,
     "tableResultSettingsMap": {},
     "title": ""
    }
   },
   "outputs": [],
   "source": [
    "import pandas as pd\n",
    "from sqlalchemy import create_engine\n",
    "from azure.storage.blob import BlobServiceClient\n",
    "import unicodedata"
   ]
  },
  {
   "cell_type": "markdown",
   "metadata": {
    "application/vnd.databricks.v1+cell": {
     "cellMetadata": {},
     "inputWidgets": {},
     "nuid": "75d9356c-a173-4d71-9db5-bdbd246b3c80",
     "showTitle": false,
     "tableResultSettingsMap": {},
     "title": ""
    }
   },
   "source": [
    "## Data Import from Blob Storage"
   ]
  },
  {
   "cell_type": "code",
   "execution_count": 63,
   "metadata": {
    "application/vnd.databricks.v1+cell": {
     "cellMetadata": {},
     "inputWidgets": {},
     "nuid": "25f92458-627e-401e-9bd9-50b4f108c273",
     "showTitle": false,
     "tableResultSettingsMap": {},
     "title": ""
    }
   },
   "outputs": [],
   "source": [
    "# Azure Blob Storage\n",
    "connection_string = \"DefaultEndpointsProtocol=https;AccountName=datalakestoragerentscape;AccountKey=w6Edf3np1A18vQIei31unvKWjGpyDUBqexvVauAwCeqOmnF1Bq7WsIEVplSEW+hT0q4ZzDi2KNh4+AStrOcI6g==;EndpointSuffix=core.windows.net\"\n",
    "container_name = \"cleansed-layer-airbnb\""
   ]
  },
  {
   "cell_type": "code",
   "execution_count": 47,
   "metadata": {
    "application/vnd.databricks.v1+cell": {
     "cellMetadata": {},
     "inputWidgets": {},
     "nuid": "85cfcfad-a6fb-4580-a0ff-7ff7f852aabd",
     "showTitle": false,
     "tableResultSettingsMap": {},
     "title": ""
    }
   },
   "outputs": [
    {
     "name": "stdout",
     "output_type": "stream",
     "text": [
      "Connected to Azure Blob Storage.\n"
     ]
    }
   ],
   "source": [
    "try:\n",
    "    blob_service_client = BlobServiceClient.from_connection_string(connection_string)\n",
    "    container_client = blob_service_client.get_container_client(container_name)\n",
    "    print(\"Connected to Azure Blob Storage.\")\n",
    "except Exception as e:\n",
    "    print(\"Failed to connect to Azure Blob Storage:\", e)"
   ]
  },
  {
   "cell_type": "code",
   "execution_count": 48,
   "metadata": {
    "application/vnd.databricks.v1+cell": {
     "cellMetadata": {},
     "inputWidgets": {},
     "nuid": "d6cc309c-af7f-4477-a6fe-e8c1963cc3db",
     "showTitle": false,
     "tableResultSettingsMap": {},
     "title": ""
    }
   },
   "outputs": [
    {
     "name": "stdout",
     "output_type": "stream",
     "text": [
      "cleansed-layer-airbnb\n",
      "+---cities_amenities\n",
      "+---cities_listings.csv\n",
      "+---cities_neighbourhood_features.csv\n",
      "+---cities_relevant_features_classification.csv\n",
      "+---cities_reviews.csv\n",
      "+---city_bcn_distances\n",
      "+---city_prg_distances\n"
     ]
    }
   ],
   "source": [
    "blob_list = container_client.list_blobs()\n",
    "print(container_name)\n",
    "for blob in blob_list:\n",
    "    print(f\"+---{blob.name}\")"
   ]
  },
  {
   "cell_type": "code",
   "execution_count": 49,
   "metadata": {
    "application/vnd.databricks.v1+cell": {
     "cellMetadata": {},
     "inputWidgets": {},
     "nuid": "2113106d-53b1-4b73-9d41-654dc78f91d2",
     "showTitle": false,
     "tableResultSettingsMap": {},
     "title": ""
    }
   },
   "outputs": [],
   "source": [
    "# Function to load a CSV file from Azure Blob Storage into a Pandas DataFrame\n",
    "def load_csv_from_blob(blob_path):\n",
    "    blob_client = container_client.get_blob_client(blob_path)\n",
    "    stream = BytesIO(blob_client.download_blob().readall())\n",
    "    return pd.read_csv(stream)"
   ]
  },
  {
   "cell_type": "code",
   "execution_count": 50,
   "metadata": {
    "application/vnd.databricks.v1+cell": {
     "cellMetadata": {},
     "inputWidgets": {},
     "nuid": "6d590b08-4e20-4069-9d9f-8628a8de11d1",
     "showTitle": false,
     "tableResultSettingsMap": {},
     "title": ""
    }
   },
   "outputs": [
    {
     "name": "stderr",
     "output_type": "stream",
     "text": [
      "C:\\Users\\Victor\\AppData\\Local\\Temp\\ipykernel_22864\\3884944458.py:5: DtypeWarning: Columns (29,68) have mixed types. Specify dtype option on import or set low_memory=False.\n",
      "  return pd.read_csv(stream)\n"
     ]
    },
    {
     "name": "stdout",
     "output_type": "stream",
     "text": [
      "Data loaded successfully!\n"
     ]
    }
   ],
   "source": [
    "# Load the Prague and Barcelona listings\n",
    "try:\n",
    "    cities_amenities = load_csv_from_blob(\"cities_amenities\")\n",
    "    cities_listings = load_csv_from_blob(\"cities_listings.csv\")\n",
    "    cities_neighbourhood_features = load_csv_from_blob(\"cities_neighbourhood_features.csv\")\n",
    "    cities_relevant_features_classification = load_csv_from_blob(\"cities_relevant_features_classification.csv\")\n",
    "    cities_reviews = load_csv_from_blob(\"cities_reviews.csv\")\n",
    "    city_bcn_distances = load_csv_from_blob(\"city_bcn_distances\")\n",
    "    city_prg_distances = load_csv_from_blob(\"city_prg_distances\")\n",
    "    print(\"Data loaded successfully!\")\n",
    "except Exception as e:\n",
    "    print(\"Failed to load data from Azure Blob Storage:\", e)"
   ]
  },
  {
   "cell_type": "markdown",
   "metadata": {},
   "source": [
    "## Checking column names and dtypes for creating SQL Tables"
   ]
  },
  {
   "cell_type": "code",
   "execution_count": 51,
   "metadata": {},
   "outputs": [
    {
     "name": "stdout",
     "output_type": "stream",
     "text": [
      "Dataframe: cities_amenities\n",
      "id                       int64\n",
      "restaurant_count         int64\n",
      "hotel_count              int64\n",
      "museum_count             int64\n",
      "shopping_center_count    int64\n",
      "dtype: object\n",
      "\n",
      "Dataframe: cities_listings\n",
      "id                                                int64\n",
      "listing_url                                      object\n",
      "scrape_id                                         int64\n",
      "last_scraped                                     object\n",
      "source                                           object\n",
      "                                                 ...   \n",
      "calculated_host_listings_count_entire_homes       int64\n",
      "calculated_host_listings_count_private_rooms      int64\n",
      "calculated_host_listings_count_shared_rooms       int64\n",
      "reviews_per_month                               float64\n",
      "city                                             object\n",
      "Length: 76, dtype: object\n",
      "\n",
      "Dataframe: cities_neighbourhood_features\n",
      "unique_neighbourhoods    object\n",
      "exposure_score            int64\n",
      "rising_star              object\n",
      "regulations              object\n",
      "dtype: object\n",
      "\n",
      "Dataframe: cities_relevant_features_classification\n",
      "id                        int64\n",
      "description_feature_1    object\n",
      "description_feature_2    object\n",
      "description_feature_3    object\n",
      "dtype: object\n",
      "\n",
      "Dataframe: cities_reviews\n",
      "listing_id        int64\n",
      "id                int64\n",
      "date             object\n",
      "reviewer_id       int64\n",
      "reviewer_name    object\n",
      "comments         object\n",
      "city             object\n",
      "dtype: object\n",
      "\n",
      "Dataframe: city_bcn_distances\n",
      "id                              int64\n",
      "dist_to_sagrada_familia_km    float64\n",
      "dist_to_casa_mila_km          float64\n",
      "dist_to_casa_batllo_km        float64\n",
      "dist_to_parc_guell_km         float64\n",
      "dist_to_la_rambla_km          float64\n",
      "dist_to_montjuic_km           float64\n",
      "dtype: object\n",
      "\n",
      "Dataframe: city_prg_distances\n",
      "id                                  int64\n",
      "dist_to_prague_castle_km          float64\n",
      "dist_to_charles_bridge_km         float64\n",
      "dist_to_old_town_square_km        float64\n",
      "dist_to_st._vitus_cathedral_km    float64\n",
      "dist_to_vysehrad_km               float64\n",
      "dist_to_petrin_tower_km           float64\n",
      "dtype: object\n",
      "\n"
     ]
    }
   ],
   "source": [
    "# Store all dataframes in a dictionary for easy iteration\n",
    "dataframes = {\n",
    "    \"cities_amenities\": cities_amenities,\n",
    "    \"cities_listings\": cities_listings,\n",
    "    \"cities_neighbourhood_features\": cities_neighbourhood_features,\n",
    "    \"cities_relevant_features_classification\": cities_relevant_features_classification,\n",
    "    \"cities_reviews\": cities_reviews,\n",
    "    \"city_bcn_distances\": city_bcn_distances,\n",
    "    \"city_prg_distances\": city_prg_distances\n",
    "}\n",
    "\n",
    "# Iterate over each dataframe and print column names with their types\n",
    "for df_name, df in dataframes.items():\n",
    "    print(f\"Dataframe: {df_name}\")\n",
    "    print(df.dtypes)  # Prints the column types, along with column names\n",
    "    print()  # Blank line for readability\n"
   ]
  },
  {
   "cell_type": "markdown",
   "metadata": {},
   "source": [
    "### CREATE TABLE - SQL Scripts\n",
    "\n",
    "-- Drop the table if it exists\n",
    "DROP TABLE IF EXISTS dbo.cities_amenities;\n",
    "\n",
    "-- Recreate the table with `id` as BIGINT\n",
    "CREATE TABLE dbo.cities_amenities (\n",
    "    id BIGINT NOT NULL PRIMARY KEY,\n",
    "    restaurant_count INT NULL,\n",
    "    hotel_count INT NULL,\n",
    "    museum_count INT NULL,\n",
    "    shopping_center_count INT NULL\n",
    ");\n",
    "\n",
    "-- Drop the table if it exists\n",
    "DROP TABLE IF EXISTS dbo.cities_listings;\n",
    "\n",
    "-- Recreate the table with `id` as BIGINT\n",
    "CREATE TABLE dbo.cities_listings (\n",
    "    id BIGINT NOT NULL PRIMARY KEY,\n",
    "    listing_url NVARCHAR(MAX) NULL,\n",
    "    scrape_id BIGINT NULL,\n",
    "    last_scraped NVARCHAR(50) NULL,\n",
    "    source NVARCHAR(50) NULL,\n",
    "    name NVARCHAR(MAX) NULL,\n",
    "    description NVARCHAR(MAX) NULL,\n",
    "    neighborhood_overview NVARCHAR(MAX) NULL,\n",
    "    picture_url NVARCHAR(MAX) NULL,\n",
    "    host_id BIGINT NULL,\n",
    "    host_url NVARCHAR(MAX) NULL,\n",
    "    host_name NVARCHAR(255) NULL,\n",
    "    host_since NVARCHAR(50) NULL,\n",
    "    host_location NVARCHAR(MAX) NULL,\n",
    "    host_about NVARCHAR(MAX) NULL,\n",
    "    host_response_time NVARCHAR(50) NULL,\n",
    "    host_response_rate NVARCHAR(50) NULL,\n",
    "    host_acceptance_rate NVARCHAR(50) NULL,\n",
    "    host_is_superhost BIT NULL,\n",
    "    host_thumbnail_url NVARCHAR(MAX) NULL,\n",
    "    host_picture_url NVARCHAR(MAX) NULL,\n",
    "    host_neighbourhood NVARCHAR(MAX) NULL,\n",
    "    host_listings_count INT NULL,\n",
    "    host_total_listings_count INT NULL,\n",
    "    host_verifications NVARCHAR(MAX) NULL,\n",
    "    host_has_profile_pic BIT NULL,\n",
    "    host_identity_verified BIT NULL,\n",
    "    neighbourhood NVARCHAR(MAX) NULL,\n",
    "    neighbourhood_cleansed NVARCHAR(MAX) NULL,\n",
    "    neighbourhood_group_cleansed NVARCHAR(MAX) NULL,\n",
    "    latitude FLOAT NULL,\n",
    "    longitude FLOAT NULL,\n",
    "    property_type NVARCHAR(255) NULL,\n",
    "    room_type NVARCHAR(255) NULL,\n",
    "    accommodates INT NULL,\n",
    "    bathrooms FLOAT NULL,\n",
    "    bathrooms_text NVARCHAR(255) NULL,\n",
    "    bedrooms FLOAT NULL,\n",
    "    beds FLOAT NULL,\n",
    "    amenities NVARCHAR(MAX) NULL,\n",
    "    price FLOAT NULL,\n",
    "    minimum_nights INT NULL,\n",
    "    maximum_nights INT NULL,\n",
    "    minimum_minimum_nights INT NULL,\n",
    "    maximum_minimum_nights INT NULL,\n",
    "    minimum_maximum_nights INT NULL,\n",
    "    maximum_maximum_nights INT NULL,\n",
    "    minimum_nights_avg_ntm FLOAT NULL,\n",
    "    maximum_nights_avg_ntm FLOAT NULL,\n",
    "    calendar_updated NVARCHAR(50) NULL,\n",
    "    has_availability BIT NULL,\n",
    "    availability_30 INT NULL,\n",
    "    availability_60 INT NULL,\n",
    "    availability_90 INT NULL,\n",
    "    availability_365 INT NULL,\n",
    "    calendar_last_scraped NVARCHAR(50) NULL,\n",
    "    number_of_reviews INT NULL,\n",
    "    number_of_reviews_ltm INT NULL,\n",
    "    number_of_reviews_l30d INT NULL,\n",
    "    first_review NVARCHAR(50) NULL,\n",
    "    last_review NVARCHAR(50) NULL,\n",
    "    review_scores_rating FLOAT NULL,\n",
    "    review_scores_accuracy FLOAT NULL,\n",
    "    review_scores_cleanliness FLOAT NULL,\n",
    "    review_scores_checkin FLOAT NULL,\n",
    "    review_scores_communication FLOAT NULL,\n",
    "    review_scores_location FLOAT NULL,\n",
    "    review_scores_value FLOAT NULL,\n",
    "    license NVARCHAR(255) NULL,\n",
    "    instant_bookable BIT NULL,\n",
    "    calculated_host_listings_count INT NULL,\n",
    "    calculated_host_listings_count_entire_homes INT NULL,\n",
    "    calculated_host_listings_count_private_rooms INT NULL,\n",
    "    calculated_host_listings_count_shared_rooms INT NULL,\n",
    "    reviews_per_month FLOAT NULL,\n",
    "    city NVARCHAR(255) NULL\n",
    ");\n",
    "\n",
    "-- Drop the table if it exists\n",
    "DROP TABLE IF EXISTS dbo.cities_neighbourhood_features;\n",
    "\n",
    "-- Recreate the table\n",
    "CREATE TABLE dbo.cities_neighbourhood_features (\n",
    "    unique_neighbourhoods NVARCHAR(255) NOT NULL PRIMARY KEY,\n",
    "    exposure_score INT NULL,\n",
    "    rising_star NVARCHAR(50) NULL,\n",
    "    regulations NVARCHAR(MAX) NULL\n",
    ");\n",
    "\n",
    "-- Drop the table if it exists\n",
    "DROP TABLE IF EXISTS dbo.cities_neighbourhood_features;\n",
    "\n",
    "-- Recreate the table\n",
    "CREATE TABLE dbo.cities_neighbourhood_features (\n",
    "    unique_neighbourhoods NVARCHAR(255) NOT NULL PRIMARY KEY,\n",
    "    exposure_score INT NULL,\n",
    "    rising_star NVARCHAR(50) NULL,\n",
    "    regulations NVARCHAR(MAX) NULL\n",
    ");\n",
    "\n",
    "-- Drop the table if it exists\n",
    "DROP TABLE IF EXISTS dbo.cities_reviews;\n",
    "\n",
    "-- Recreate the table with `id` as BIGINT\n",
    "CREATE TABLE dbo.cities_reviews (\n",
    "    listing_id BIGINT NOT NULL,\n",
    "    id BIGINT NOT NULL PRIMARY KEY,\n",
    "    date NVARCHAR(50) NULL,\n",
    "    reviewer_id BIGINT NULL,\n",
    "    reviewer_name NVARCHAR(255) NULL,\n",
    "    comments NVARCHAR(MAX) NULL,\n",
    "    city NVARCHAR(255) NULL\n",
    ");\n",
    "\n",
    "-- Drop the table if it exists\n",
    "DROP TABLE IF EXISTS dbo.city_bcn_distances;\n",
    "\n",
    "-- Recreate the table with `id` as BIGINT\n",
    "CREATE TABLE dbo.city_bcn_distances (\n",
    "    id BIGINT NOT NULL PRIMARY KEY,\n",
    "    dist_to_sagrada_familia_km FLOAT NULL,\n",
    "    dist_to_casa_mila_km FLOAT NULL,\n",
    "    dist_to_casa_batllo_km FLOAT NULL,\n",
    "    dist_to_parc_guell_km FLOAT NULL,\n",
    "    dist_to_la_rambla_km FLOAT NULL,\n",
    "    dist_to_montjuic_km FLOAT NULL\n",
    ");\n",
    "\n",
    "-- Drop the table if it exists\n",
    "DROP TABLE IF EXISTS dbo.city_prg_distances;\n",
    "\n",
    "-- Recreate the table with `id` as BIGINT\n",
    "CREATE TABLE dbo.city_prg_distances (\n",
    "    id BIGINT NOT NULL PRIMARY KEY,\n",
    "    dist_to_prague_castle_km FLOAT NULL,\n",
    "    dist_to_charles_bridge_km FLOAT NULL,\n",
    "    dist_to_old_town_square_km FLOAT NULL,\n",
    "    dist_to_st_vitus_cathedral_km FLOAT NULL,\n",
    "    dist_to_vysehrad_km FLOAT NULL,\n",
    "    dist_to_petrin_tower_km FLOAT NULL\n",
    ");"
   ]
  },
  {
   "cell_type": "markdown",
   "metadata": {},
   "source": [
    "# Data Load to SQL AZURE DB"
   ]
  },
  {
   "cell_type": "code",
   "execution_count": 64,
   "metadata": {},
   "outputs": [
    {
     "name": "stdout",
     "output_type": "stream",
     "text": [
      "SQLAlchemy engine created successfully!\n",
      "Connection to the database was successful!\n"
     ]
    }
   ],
   "source": [
    "# Azure SQL connection details\n",
    "server = 'servidorparadatalakes.database.windows.net'\n",
    "database = 'datalakeshslu@outlook.com'\n",
    "username = 'datalakeshslu@outlook.com@servidorparadatalakes'\n",
    "password = 'victordanielrodigo.1'  # Replace with your actual password\n",
    "\n",
    "# SQLAlchemy connection string\n",
    "connection_string = f\"mssql+pymssql://{username}:{password}@{server}/{database}\"\n",
    "\n",
    "# Create the SQLAlchemy engine\n",
    "try:\n",
    "    engine = create_engine(connection_string)\n",
    "    print(\"SQLAlchemy engine created successfully!\")\n",
    "\n",
    "    # Test the connection\n",
    "    with engine.connect() as conn:\n",
    "        print(\"Connection to the database was successful!\")\n",
    "except Exception as e:\n",
    "    print(f\"Error creating SQLAlchemy engine or connecting: {e}\")\n"
   ]
  },
  {
   "cell_type": "code",
   "execution_count": 57,
   "metadata": {},
   "outputs": [
    {
     "name": "stdout",
     "output_type": "stream",
     "text": [
      "SQLAlchemy engine created successfully!\n",
      "Data inserted successfully into 'cities_amenities' table!\n",
      "Database connection closed.\n"
     ]
    }
   ],
   "source": [
    "# Insert DataFrame into the database\n",
    "try:\n",
    "    # Create the SQLAlchemy engine\n",
    "    engine = create_engine(connection_string)\n",
    "    print(\"SQLAlchemy engine created successfully!\")\n",
    "\n",
    "    # Insert the DataFrame into the SQL table\n",
    "    cities_amenities.to_sql(name='cities_amenities', con=engine, schema='dbo', if_exists='append', index=False)\n",
    "\n",
    "    print(\"Data inserted successfully into 'cities_amenities' table!\")\n",
    "except Exception as e:\n",
    "    print(f\"Error: {e}\")\n",
    "finally:\n",
    "    # Dispose of the engine to close the connection\n",
    "    if 'engine' in locals():\n",
    "        engine.dispose()\n",
    "        print(\"Database connection closed.\")"
   ]
  },
  {
   "cell_type": "code",
   "execution_count": 59,
   "metadata": {},
   "outputs": [
    {
     "name": "stdout",
     "output_type": "stream",
     "text": [
      "SQLAlchemy engine created successfully!\n",
      "Data inserted successfully into 'cities_listings' table!\n",
      "Database connection closed.\n"
     ]
    }
   ],
   "source": [
    "# Insert DataFrame into the database\n",
    "try:\n",
    "    # Create the SQLAlchemy engine\n",
    "    engine = create_engine(connection_string)\n",
    "    print(\"SQLAlchemy engine created successfully!\")\n",
    "\n",
    "    # Insert the DataFrame into the SQL table\n",
    "    cities_listings.to_sql(name='cities_listings', con=engine, schema='dbo', if_exists='append', index=False)\n",
    "\n",
    "    print(\"Data inserted successfully into 'cities_listings' table!\")\n",
    "except Exception as e:\n",
    "    print(f\"Error: {e}\")\n",
    "finally:\n",
    "    # Dispose of the engine to close the connection\n",
    "    if 'engine' in locals():\n",
    "        engine.dispose()\n",
    "        print(\"Database connection closed.\")"
   ]
  },
  {
   "cell_type": "code",
   "execution_count": 66,
   "metadata": {},
   "outputs": [
    {
     "name": "stdout",
     "output_type": "stream",
     "text": [
      "SQLAlchemy engine created successfully!\n",
      "Data inserted successfully into 'cities_neighbourhood_features' table!\n",
      "Database connection closed.\n"
     ]
    }
   ],
   "source": [
    "try:\n",
    "    # Create the SQLAlchemy engine\n",
    "    engine = create_engine(connection_string)\n",
    "    print(\"SQLAlchemy engine created successfully!\")\n",
    "\n",
    "    # Insert the DataFrame into the SQL table\n",
    "    cities_neighbourhood_features.to_sql(name='cities_neighbourhood_features', con=engine, schema='dbo', if_exists='append', index=False)\n",
    "\n",
    "    print(\"Data inserted successfully into 'cities_neighbourhood_features' table!\")\n",
    "except Exception as e:\n",
    "    print(f\"Error: {e}\")\n",
    "finally:\n",
    "    # Dispose of the engine to close the connection\n",
    "    if 'engine' in locals():\n",
    "        engine.dispose()\n",
    "        print(\"Database connection closed.\")\n"
   ]
  },
  {
   "cell_type": "code",
   "execution_count": 67,
   "metadata": {},
   "outputs": [
    {
     "name": "stdout",
     "output_type": "stream",
     "text": [
      "SQLAlchemy engine created successfully!\n",
      "Data inserted successfully into 'cities_relevant_features_classification' table!\n",
      "Database connection closed.\n"
     ]
    }
   ],
   "source": [
    "try:\n",
    "    # Create the SQLAlchemy engine\n",
    "    engine = create_engine(connection_string)\n",
    "    print(\"SQLAlchemy engine created successfully!\")\n",
    "\n",
    "    # Insert the DataFrame into the SQL table\n",
    "    cities_relevant_features_classification.to_sql(name='cities_relevant_features_classification', con=engine, schema='dbo', if_exists='append', index=False)\n",
    "\n",
    "    print(\"Data inserted successfully into 'cities_relevant_features_classification' table!\")\n",
    "except Exception as e:\n",
    "    print(f\"Error: {e}\")\n",
    "finally:\n",
    "    # Dispose of the engine to close the connection\n",
    "    if 'engine' in locals():\n",
    "        engine.dispose()\n",
    "        print(\"Database connection closed.\")\n"
   ]
  },
  {
   "cell_type": "code",
   "execution_count": 79,
   "metadata": {},
   "outputs": [
    {
     "data": {
      "text/html": [
       "<div>\n",
       "<style scoped>\n",
       "    .dataframe tbody tr th:only-of-type {\n",
       "        vertical-align: middle;\n",
       "    }\n",
       "\n",
       "    .dataframe tbody tr th {\n",
       "        vertical-align: top;\n",
       "    }\n",
       "\n",
       "    .dataframe thead th {\n",
       "        text-align: right;\n",
       "    }\n",
       "</style>\n",
       "<table border=\"1\" class=\"dataframe\">\n",
       "  <thead>\n",
       "    <tr style=\"text-align: right;\">\n",
       "      <th></th>\n",
       "      <th>listing_id</th>\n",
       "      <th>id</th>\n",
       "      <th>date</th>\n",
       "      <th>reviewer_id</th>\n",
       "      <th>reviewer_name</th>\n",
       "      <th>comments</th>\n",
       "      <th>city</th>\n",
       "    </tr>\n",
       "  </thead>\n",
       "  <tbody>\n",
       "    <tr>\n",
       "      <th>0</th>\n",
       "      <td>23163</td>\n",
       "      <td>101588</td>\n",
       "      <td>2010-09-20</td>\n",
       "      <td>227165</td>\n",
       "      <td>Nathan</td>\n",
       "      <td>Incredible apartment in an ideal location. The...</td>\n",
       "      <td>Prague</td>\n",
       "    </tr>\n",
       "    <tr>\n",
       "      <th>1</th>\n",
       "      <td>23163</td>\n",
       "      <td>157152</td>\n",
       "      <td>2010-12-22</td>\n",
       "      <td>286036</td>\n",
       "      <td>Hugh</td>\n",
       "      <td>The apartment was huge, we felt like we were s...</td>\n",
       "      <td>Prague</td>\n",
       "    </tr>\n",
       "    <tr>\n",
       "      <th>2</th>\n",
       "      <td>23163</td>\n",
       "      <td>1512585</td>\n",
       "      <td>2012-06-18</td>\n",
       "      <td>2634312</td>\n",
       "      <td>Sergey</td>\n",
       "      <td>Отличная квартира и сервис, большое спасибо.</td>\n",
       "      <td>Prague</td>\n",
       "    </tr>\n",
       "    <tr>\n",
       "      <th>3</th>\n",
       "      <td>23163</td>\n",
       "      <td>1871730</td>\n",
       "      <td>2012-08-02</td>\n",
       "      <td>2538194</td>\n",
       "      <td>Sônia</td>\n",
       "      <td>Great place to combine the good things of an a...</td>\n",
       "      <td>Prague</td>\n",
       "    </tr>\n",
       "    <tr>\n",
       "      <th>4</th>\n",
       "      <td>23163</td>\n",
       "      <td>24542545</td>\n",
       "      <td>2014-12-30</td>\n",
       "      <td>21860409</td>\n",
       "      <td>Rachel</td>\n",
       "      <td>Residence Karolina and Prague City Apartments ...</td>\n",
       "      <td>Prague</td>\n",
       "    </tr>\n",
       "    <tr>\n",
       "      <th>...</th>\n",
       "      <td>...</td>\n",
       "      <td>...</td>\n",
       "      <td>...</td>\n",
       "      <td>...</td>\n",
       "      <td>...</td>\n",
       "      <td>...</td>\n",
       "      <td>...</td>\n",
       "    </tr>\n",
       "    <tr>\n",
       "      <th>1578928</th>\n",
       "      <td>1222289574891792402</td>\n",
       "      <td>1225948271188658620</td>\n",
       "      <td>2024-08-18</td>\n",
       "      <td>594356493</td>\n",
       "      <td>Christian</td>\n",
       "      <td>muy agradable la estancia, las personas que no...</td>\n",
       "      <td>Barcelona</td>\n",
       "    </tr>\n",
       "    <tr>\n",
       "      <th>1578929</th>\n",
       "      <td>1222305480654104141</td>\n",
       "      <td>1225952926997345716</td>\n",
       "      <td>2024-08-18</td>\n",
       "      <td>589580500</td>\n",
       "      <td>Ornella Gianina</td>\n",
       "      <td>Buena ubicación, habitación un poco pequeña, p...</td>\n",
       "      <td>Barcelona</td>\n",
       "    </tr>\n",
       "    <tr>\n",
       "      <th>1578930</th>\n",
       "      <td>1226644265166272585</td>\n",
       "      <td>1237537410696005705</td>\n",
       "      <td>2024-09-03</td>\n",
       "      <td>395263368</td>\n",
       "      <td>Sandra</td>\n",
       "      <td>Incroyable</td>\n",
       "      <td>Barcelona</td>\n",
       "    </tr>\n",
       "    <tr>\n",
       "      <th>1578931</th>\n",
       "      <td>1227947729562300326</td>\n",
       "      <td>1228946929992698903</td>\n",
       "      <td>2024-08-22</td>\n",
       "      <td>29612403</td>\n",
       "      <td>Avelina</td>\n",
       "      <td>Cozy and spacious room with a beautiful view. ...</td>\n",
       "      <td>Barcelona</td>\n",
       "    </tr>\n",
       "    <tr>\n",
       "      <th>1578932</th>\n",
       "      <td>1227947729562300326</td>\n",
       "      <td>1239027991285742339</td>\n",
       "      <td>2024-09-05</td>\n",
       "      <td>597821793</td>\n",
       "      <td>Gabriela</td>\n",
       "      <td>A wonderful stay with exceptional hosts and a ...</td>\n",
       "      <td>Barcelona</td>\n",
       "    </tr>\n",
       "  </tbody>\n",
       "</table>\n",
       "<p>1578933 rows × 7 columns</p>\n",
       "</div>"
      ],
      "text/plain": [
       "                  listing_id                   id        date  reviewer_id  \\\n",
       "0                      23163               101588  2010-09-20       227165   \n",
       "1                      23163               157152  2010-12-22       286036   \n",
       "2                      23163              1512585  2012-06-18      2634312   \n",
       "3                      23163              1871730  2012-08-02      2538194   \n",
       "4                      23163             24542545  2014-12-30     21860409   \n",
       "...                      ...                  ...         ...          ...   \n",
       "1578928  1222289574891792402  1225948271188658620  2024-08-18    594356493   \n",
       "1578929  1222305480654104141  1225952926997345716  2024-08-18    589580500   \n",
       "1578930  1226644265166272585  1237537410696005705  2024-09-03    395263368   \n",
       "1578931  1227947729562300326  1228946929992698903  2024-08-22     29612403   \n",
       "1578932  1227947729562300326  1239027991285742339  2024-09-05    597821793   \n",
       "\n",
       "           reviewer_name                                           comments  \\\n",
       "0                 Nathan  Incredible apartment in an ideal location. The...   \n",
       "1                   Hugh  The apartment was huge, we felt like we were s...   \n",
       "2                 Sergey       Отличная квартира и сервис, большое спасибо.   \n",
       "3                  Sônia  Great place to combine the good things of an a...   \n",
       "4                 Rachel  Residence Karolina and Prague City Apartments ...   \n",
       "...                  ...                                                ...   \n",
       "1578928        Christian  muy agradable la estancia, las personas que no...   \n",
       "1578929  Ornella Gianina  Buena ubicación, habitación un poco pequeña, p...   \n",
       "1578930           Sandra                                         Incroyable   \n",
       "1578931          Avelina  Cozy and spacious room with a beautiful view. ...   \n",
       "1578932         Gabriela  A wonderful stay with exceptional hosts and a ...   \n",
       "\n",
       "              city  \n",
       "0           Prague  \n",
       "1           Prague  \n",
       "2           Prague  \n",
       "3           Prague  \n",
       "4           Prague  \n",
       "...            ...  \n",
       "1578928  Barcelona  \n",
       "1578929  Barcelona  \n",
       "1578930  Barcelona  \n",
       "1578931  Barcelona  \n",
       "1578932  Barcelona  \n",
       "\n",
       "[1578933 rows x 7 columns]"
      ]
     },
     "execution_count": 79,
     "metadata": {},
     "output_type": "execute_result"
    }
   ],
   "source": [
    "cities_reviews"
   ]
  },
  {
   "cell_type": "code",
   "execution_count": 80,
   "metadata": {},
   "outputs": [
    {
     "name": "stdout",
     "output_type": "stream",
     "text": [
      "SQLAlchemy engine created successfully!\n",
      "Data inserted successfully into 'cities_reviews' table in batches of 100000 rows!\n",
      "Database connection closed.\n"
     ]
    }
   ],
   "source": [
    "try:\n",
    "    # Create the SQLAlchemy engine\n",
    "    engine = create_engine(connection_string)\n",
    "    print(\"SQLAlchemy engine created successfully!\")\n",
    "\n",
    "    # Insert the DataFrame into the SQL table in batches of 100,000 rows\n",
    "    batch_size = 100000\n",
    "    cities_reviews.to_sql(\n",
    "        name='cities_reviews',        # Name of the SQL table\n",
    "        con=engine,                   # SQLAlchemy engine\n",
    "        schema='dbo',                 # Schema (use 'dbo' for default)\n",
    "        if_exists='append',           # Append data if the table already exists\n",
    "        index=False,                  # Do not include the DataFrame index as a column\n",
    "        chunksize=batch_size          # Number of rows per batch\n",
    "    )\n",
    "\n",
    "    print(f\"Data inserted successfully into 'cities_reviews' table in batches of {batch_size} rows!\")\n",
    "except Exception as e:\n",
    "    print(f\"Error: {e}\")\n",
    "finally:\n",
    "    # Dispose of the engine to close the connection\n",
    "    if 'engine' in locals():\n",
    "        engine.dispose()\n",
    "        print(\"Database connection closed.\")\n"
   ]
  },
  {
   "cell_type": "code",
   "execution_count": 69,
   "metadata": {},
   "outputs": [
    {
     "name": "stdout",
     "output_type": "stream",
     "text": [
      "SQLAlchemy engine created successfully!\n",
      "Data inserted successfully into 'city_bcn_distances' table!\n",
      "Database connection closed.\n"
     ]
    }
   ],
   "source": [
    "try:\n",
    "    # Create the SQLAlchemy engine\n",
    "    engine = create_engine(connection_string)\n",
    "    print(\"SQLAlchemy engine created successfully!\")\n",
    "\n",
    "    # Insert the DataFrame into the SQL table\n",
    "    city_bcn_distances.to_sql(name='city_bcn_distances', con=engine, schema='dbo', if_exists='append', index=False)\n",
    "\n",
    "    print(\"Data inserted successfully into 'city_bcn_distances' table!\")\n",
    "except Exception as e:\n",
    "    print(f\"Error: {e}\")\n",
    "finally:\n",
    "    # Dispose of the engine to close the connection\n",
    "    if 'engine' in locals():\n",
    "        engine.dispose()\n",
    "        print(\"Database connection closed.\")\n"
   ]
  },
  {
   "cell_type": "code",
   "execution_count": 75,
   "metadata": {},
   "outputs": [
    {
     "name": "stdout",
     "output_type": "stream",
     "text": [
      "SQLAlchemy engine created successfully!\n",
      "Data inserted successfully into 'city_prg_distances' table!\n",
      "Database connection closed.\n"
     ]
    }
   ],
   "source": [
    "try:\n",
    "    # Create the SQLAlchemy engine\n",
    "    engine = create_engine(connection_string)\n",
    "    print(\"SQLAlchemy engine created successfully!\")\n",
    "\n",
    "    # Insert the DataFrame into the SQL table\n",
    "    city_prg_distances.to_sql(name='city_prg_distances', con=engine, schema='dbo', if_exists='append', index=False)\n",
    "\n",
    "    print(\"Data inserted successfully into 'city_prg_distances' table!\")\n",
    "except Exception as e:\n",
    "    print(f\"Error: {e}\")\n",
    "finally:\n",
    "    # Dispose of the engine to close the connection\n",
    "    if 'engine' in locals():\n",
    "        engine.dispose()\n",
    "        print(\"Database connection closed.\")\n"
   ]
  }
 ],
 "metadata": {
  "application/vnd.databricks.v1+notebook": {
   "dashboards": [],
   "environmentMetadata": null,
   "language": "python",
   "notebookMetadata": {
    "pythonIndentUnit": 4
   },
   "notebookName": "DL_Google_Places_API",
   "widgets": {}
  },
  "kernelspec": {
   "display_name": "myenv",
   "language": "python",
   "name": "python3"
  },
  "language_info": {
   "codemirror_mode": {
    "name": "ipython",
    "version": 3
   },
   "file_extension": ".py",
   "mimetype": "text/x-python",
   "name": "python",
   "nbconvert_exporter": "python",
   "pygments_lexer": "ipython3",
   "version": "3.12.7"
  }
 },
 "nbformat": 4,
 "nbformat_minor": 0
}
