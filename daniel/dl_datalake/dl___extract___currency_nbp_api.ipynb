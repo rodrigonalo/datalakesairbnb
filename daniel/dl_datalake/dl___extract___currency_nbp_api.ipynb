{
 "cells": [
  {
   "cell_type": "markdown",
   "metadata": {
    "application/vnd.databricks.v1+cell": {
     "cellMetadata": {},
     "inputWidgets": {},
     "nuid": "7deb2a83-12cc-4a24-84c8-c9ac8048720f",
     "showTitle": false,
     "tableResultSettingsMap": {},
     "title": ""
    }
   },
   "source": [
    "# Data Transformation for the listings.csv files for Prague and Barcelona"
   ]
  },
  {
   "cell_type": "code",
   "execution_count": 0,
   "metadata": {
    "application/vnd.databricks.v1+cell": {
     "cellMetadata": {},
     "inputWidgets": {},
     "nuid": "8d6bfcc9-d004-4022-a22a-1d357c7c5d9d",
     "showTitle": false,
     "tableResultSettingsMap": {},
     "title": ""
    }
   },
   "outputs": [],
   "source": [
    "import requests\n",
    "import pandas as pd\n",
    "from datetime import datetime\n",
    "import xml.etree.ElementTree as ET\n",
    "# For Azure connection:\n",
    "from azure.storage.blob import BlobServiceClient\n",
    "from io import BytesIO, StringIO"
   ]
  },
  {
   "cell_type": "markdown",
   "metadata": {
    "application/vnd.databricks.v1+cell": {
     "cellMetadata": {},
     "inputWidgets": {},
     "nuid": "3548195b-8fd8-47e4-af12-9ef22a5053a6",
     "showTitle": false,
     "tableResultSettingsMap": {},
     "title": ""
    }
   },
   "source": [
    "## Conversion rate from CZK to EUR"
   ]
  },
  {
   "cell_type": "markdown",
   "metadata": {
    "application/vnd.databricks.v1+cell": {
     "cellMetadata": {},
     "inputWidgets": {},
     "nuid": "bd749b52-4a9e-4d8c-b7cd-cc605ece7afe",
     "showTitle": false,
     "tableResultSettingsMap": {},
     "title": ""
    }
   },
   "source": [
    "The currency exchange rates are obtained from the free API from the [National Bank of Poland](https://api.nbp.pl/en.html). A simple API call specifying the target currency returns the exchange rate relative to the Polish złoty (PLN). By dividing the exchange rate from CZK to PLN by the exchange rate from EUR to PLN, the CZK to EUR rate can be derived."
   ]
  },
  {
   "cell_type": "code",
   "execution_count": 0,
   "metadata": {
    "application/vnd.databricks.v1+cell": {
     "cellMetadata": {},
     "inputWidgets": {},
     "nuid": "ae003e3e-9399-47c4-a9d7-b72c316c3517",
     "showTitle": false,
     "tableResultSettingsMap": {},
     "title": ""
    }
   },
   "outputs": [],
   "source": [
    "def fetch_exchange_rate(currency_code):\n",
    "\n",
    "    '''Function to extract any curency exchange rate from Polish Zloty to {currency} using NBP's open API'''\n",
    "    \n",
    "    url = f\"https://api.nbp.pl/api/exchangerates/rates/a/{currency_code}/\"\n",
    "    response = requests.get(url, headers={\"Accept\": \"application/xml\"})\n",
    "    if response.status_code == 200:\n",
    "        root = ET.fromstring(response.content)\n",
    "        rate = float(root.find(\".//Mid\").text)\n",
    "        date = root.find(\".//EffectiveDate\").text\n",
    "        return date, rate\n",
    "    else:\n",
    "        raise ValueError(f\"Failed to fetch exchange rate for {currency_code}\")"
   ]
  },
  {
   "cell_type": "code",
   "execution_count": 0,
   "metadata": {
    "application/vnd.databricks.v1+cell": {
     "cellMetadata": {},
     "inputWidgets": {},
     "nuid": "02ecf63f-3ea3-4bed-b006-d2ea26a3b997",
     "showTitle": false,
     "tableResultSettingsMap": {},
     "title": ""
    }
   },
   "outputs": [],
   "source": [
    "try:\n",
    "    # Fetch the CZK and EUR exchange rates with timestamps\n",
    "    czk_date, czk_to_pln = fetch_exchange_rate(\"czk\")\n",
    "    eur_date, eur_to_pln = fetch_exchange_rate(\"eur\")\n",
    "    \n",
    "    # Ensure the dates are the same for consistency\n",
    "    if czk_date != eur_date:\n",
    "        raise ValueError(\"Timestamps for CZK and EUR rates do not match.\")\n",
    "\n",
    "    # Calculate the CZK to EUR exchange rate\n",
    "    czk_to_eur = czk_to_pln / eur_to_pln\n",
    "\n",
    "    # Create a DataFrame with the timestamp, rates in PLN, and calculated CZK to EUR\n",
    "    data = {\n",
    "        \"Date\": [czk_date],\n",
    "        \"CZK_to_PLN\": [czk_to_pln],\n",
    "        \"EUR_to_PLN\": [eur_to_pln],\n",
    "        \"CZK_to_EUR\": [czk_to_eur]\n",
    "    }\n",
    "    \n",
    "    df_conversion_rates = pd.DataFrame(data)\n",
    "\n",
    "except ValueError as e:\n",
    "    print(e)"
   ]
  },
  {
   "cell_type": "markdown",
   "metadata": {
    "application/vnd.databricks.v1+cell": {
     "cellMetadata": {},
     "inputWidgets": {},
     "nuid": "e74f09eb-5155-444b-a180-f588080038c7",
     "showTitle": false,
     "tableResultSettingsMap": {},
     "title": ""
    }
   },
   "source": [
    "The rates as well as date of extraction are the following:"
   ]
  },
  {
   "cell_type": "code",
   "execution_count": 0,
   "metadata": {
    "application/vnd.databricks.v1+cell": {
     "cellMetadata": {},
     "inputWidgets": {},
     "nuid": "dbd5eea7-599e-4c74-9873-d6815fde9ab9",
     "showTitle": false,
     "tableResultSettingsMap": {},
     "title": ""
    }
   },
   "outputs": [],
   "source": [
    "df_conversion_rates"
   ]
  },
  {
   "cell_type": "markdown",
   "metadata": {
    "application/vnd.databricks.v1+cell": {
     "cellMetadata": {},
     "inputWidgets": {},
     "nuid": "69fbce47-6d88-4426-9f88-097dd310ae42",
     "showTitle": false,
     "tableResultSettingsMap": {},
     "title": ""
    }
   },
   "source": [
    "## Uploading the data to the Azure Blob Storage"
   ]
  },
  {
   "cell_type": "code",
   "execution_count": 0,
   "metadata": {
    "application/vnd.databricks.v1+cell": {
     "cellMetadata": {},
     "inputWidgets": {},
     "nuid": "0bf657b4-a341-4fda-a764-b0762f90cf68",
     "showTitle": false,
     "tableResultSettingsMap": {},
     "title": ""
    }
   },
   "outputs": [],
   "source": [
    "# Azure Blob Storage\n",
    "connection_string = \"DefaultEndpointsProtocol=https;AccountName=datalakestoragerentscape;AccountKey=w6Edf3np1A18vQIei31unvKWjGpyDUBqexvVauAwCeqOmnF1Bq7WsIEVplSEW+hT0q4ZzDi2KNh4+AStrOcI6g==;EndpointSuffix=core.windows.net\"\n",
    "container_name = \"bnpapi-rentscape-blob\"\n",
    "\n",
    "# Blob name (new file name)\n",
    "blob_name = \"conversion_rates.json\""
   ]
  },
  {
   "cell_type": "code",
   "execution_count": 0,
   "metadata": {
    "application/vnd.databricks.v1+cell": {
     "cellMetadata": {},
     "inputWidgets": {},
     "nuid": "ce098882-6023-4ece-a355-89a1ef8fdb63",
     "showTitle": false,
     "tableResultSettingsMap": {},
     "title": ""
    }
   },
   "outputs": [],
   "source": [
    "# Convert the DataFrame to JSON format in memory\n",
    "json_buffer = StringIO()\n",
    "df_conversion_rates.to_json(json_buffer, orient=\"records\", lines=False)\n",
    "json_buffer.seek(0)  # Reset the buffer position to the beginning\n",
    "\n",
    "try:\n",
    "    # Create a BlobServiceClient and ContainerClient\n",
    "    blob_service_client = BlobServiceClient.from_connection_string(connection_string)\n",
    "    container_client = blob_service_client.get_container_client(container_name)\n",
    "    print(\"Connected to Azure Blob Storage.\")\n",
    "\n",
    "    # Check if the blob already exists\n",
    "    blobs_list = [blob.name for blob in container_client.list_blobs()]\n",
    "    if blob_name in blobs_list:\n",
    "        print(f\"A blob with the name '{blob_name}' already exists in the container '{container_name}'.\")\n",
    "    else:\n",
    "        # Upload the file if it doesn't exist\n",
    "        blob_client = container_client.get_blob_client(blob=blob_name)\n",
    "        blob_client.upload_blob(json_buffer.getvalue(), overwrite=False)\n",
    "        print(f\"File '{blob_name}' uploaded successfully!\")\n",
    "except Exception as e:\n",
    "    print(\"An error occurred:\", e)"
   ]
  },
  {
   "cell_type": "code",
   "execution_count": 0,
   "metadata": {
    "application/vnd.databricks.v1+cell": {
     "cellMetadata": {},
     "inputWidgets": {},
     "nuid": "88c8ad4f-1432-4e9b-beed-ee24e9e42670",
     "showTitle": false,
     "tableResultSettingsMap": {},
     "title": ""
    }
   },
   "outputs": [],
   "source": [
    "blob_list = container_client.list_blobs()\n",
    "print(container_name)\n",
    "for blob in blob_list:\n",
    "    print(f\"+---{blob.name}\")"
   ]
  },
  {
   "cell_type": "code",
   "execution_count": 0,
   "metadata": {
    "application/vnd.databricks.v1+cell": {
     "cellMetadata": {},
     "inputWidgets": {},
     "nuid": "28dee883-2041-4fb3-ad5e-b96f5bd33958",
     "showTitle": false,
     "tableResultSettingsMap": {},
     "title": ""
    }
   },
   "outputs": [],
   "source": []
  }
 ],
 "metadata": {
  "application/vnd.databricks.v1+notebook": {
   "dashboards": [],
   "environmentMetadata": null,
   "language": "python",
   "notebookMetadata": {
    "pythonIndentUnit": 4
   },
   "notebookName": "DL_Currency_NBP_API_Blob",
   "widgets": {}
  },
  "kernelspec": {
   "display_name": "Python 3 (ipykernel)",
   "language": "python",
   "name": "python3"
  },
  "language_info": {
   "name": "python"
  }
 },
 "nbformat": 4,
 "nbformat_minor": 0
}
