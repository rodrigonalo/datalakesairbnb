{
 "cells": [
  {
   "cell_type": "code",
   "execution_count": 14,
   "metadata": {},
   "outputs": [],
   "source": [
    "from azure.storage.blob import BlobServiceClient\n",
    "import pandas as pd\n",
    "import io\n",
    "from concurrent.futures import ThreadPoolExecutor, as_completed"
   ]
  },
  {
   "cell_type": "code",
   "execution_count": 15,
   "metadata": {},
   "outputs": [
    {
     "name": "stdout",
     "output_type": "stream",
     "text": [
      "Loaded openai-rentscape-blob/barcelona_listings.parquet into DataFrame: openai_rentscape_blob_barcelona_listings\n",
      "Loaded openai-rentscape-blob/barcelona_neighborhoods_details.csv into DataFrame: openai_rentscape_blob_barcelona_neighborhoods_details\n",
      "Loaded openai-rentscape-blob/prague_neighborhoods_details.csv.csv into DataFrame: openai_rentscape_blob_prague_neighborhoods_details.csv\n",
      "Loaded openai-rentscape-blob/prague_listings.parquet into DataFrame: openai_rentscape_blob_prague_listings\n"
     ]
    }
   ],
   "source": [
    "from azure.storage.blob import BlobServiceClient\n",
    "import pandas as pd\n",
    "import io\n",
    "import pyarrow.parquet as pq\n",
    "from concurrent.futures import ThreadPoolExecutor, as_completed\n",
    "\n",
    "# SAS Token and Container URL\n",
    "sas_token = \"sp=racwdl&st=2024-12-01T01:41:21Z&se=2025-01-28T09:41:21Z&spr=https&sv=2022-11-02&sr=c&sig=OpjDBOtKtITxiEAnzF7wkFAvAyLCmijQLyz93sxQi78%3D\"\n",
    "container_url = \"https://datalakestoragerentscape.blob.core.windows.net\"\n",
    "\n",
    "# Initialize BlobServiceClient\n",
    "blob_service_client = BlobServiceClient(account_url=container_url, credential=sas_token)\n",
    "\n",
    "# Get ContainerClient\n",
    "container_client = blob_service_client.get_container_client(container=\"openai-rentscape-blob\")\n",
    "\n",
    "# Function to download blob and load it into a DataFrame\n",
    "def download_and_load_blob(blob_name):\n",
    "    try:\n",
    "        blob_client = container_client.get_blob_client(blob_name)\n",
    "        blob_data = blob_client.download_blob().readall()\n",
    "        \n",
    "        # Determine file type and load appropriately\n",
    "        if blob_name.endswith('.csv'):\n",
    "            df = pd.read_csv(io.StringIO(blob_data.decode('utf-8')))\n",
    "        elif blob_name.endswith('.parquet'):\n",
    "            df = pd.read_parquet(io.BytesIO(blob_data))\n",
    "        else:\n",
    "            print(f\"Skipping unsupported file type: {blob_name}\")\n",
    "            return\n",
    "        \n",
    "        # Generate a variable name by removing the file extension\n",
    "        variable_name = blob_name.rsplit('.', 1)[0].replace('/', '_').replace('-', '_').replace(' ', '_')\n",
    "        \n",
    "        # Set the DataFrame to a global variable with this name\n",
    "        globals()[variable_name] = df\n",
    "        print(f\"Loaded {blob_name} into DataFrame: {variable_name}\")\n",
    "    except Exception as e:\n",
    "        print(f\"Failed to process {blob_name}: {e}\")\n",
    "\n",
    "# List all blobs in the container\n",
    "blob_names = [blob.name for blob in container_client.list_blobs()]\n",
    "\n",
    "# Use ThreadPoolExecutor for parallel processing\n",
    "with ThreadPoolExecutor(max_workers=10) as executor:\n",
    "    # Submit tasks for each blob\n",
    "    futures = {executor.submit(download_and_load_blob, blob_name): blob_name for blob_name in blob_names}\n",
    "    \n",
    "    # Process results as they complete\n",
    "    for future in as_completed(futures):\n",
    "        future.result()  # Ensures all processing completes\n",
    "\n",
    "# After this, each file in the blob will be loaded as a DataFrame\n",
    "# The variable names will correspond to the file names (excluding extensions).\n"
   ]
  },
  {
   "cell_type": "code",
   "execution_count": 16,
   "metadata": {},
   "outputs": [
    {
     "name": "stdout",
     "output_type": "stream",
     "text": [
      "Loaded DataFrames:\n",
      "openai-rentscape-blob_barcelona_neighborhoods_details_csv\n",
      "openai-rentscape-blob_prague_neighborhoods_details_csv_csv\n",
      "openai-rentscape-blob_barcelona_listings_parquet\n",
      "openai-rentscape-blob_prague_listings_parquet\n",
      "openai_rentscape_blob_prague_neighborhoods_details.csv\n",
      "openai_rentscape_blob_barcelona_neighborhoods_details\n",
      "openai_rentscape_blob_prague_listings\n",
      "openai_rentscape_blob_barcelona_listings\n"
     ]
    }
   ],
   "source": [
    "# List all variables in the global namespace\n",
    "dataframes = {name: obj for name, obj in globals().items() if isinstance(obj, pd.DataFrame)}\n",
    "\n",
    "# Print the names of all loaded DataFrames\n",
    "print(\"Loaded DataFrames:\")\n",
    "for df_name in dataframes.keys():\n",
    "    print(df_name)\n"
   ]
  },
  {
   "cell_type": "code",
   "execution_count": 17,
   "metadata": {},
   "outputs": [
    {
     "data": {
      "text/html": [
       "<div>\n",
       "<style scoped>\n",
       "    .dataframe tbody tr th:only-of-type {\n",
       "        vertical-align: middle;\n",
       "    }\n",
       "\n",
       "    .dataframe tbody tr th {\n",
       "        vertical-align: top;\n",
       "    }\n",
       "\n",
       "    .dataframe thead th {\n",
       "        text-align: right;\n",
       "    }\n",
       "</style>\n",
       "<table border=\"1\" class=\"dataframe\">\n",
       "  <thead>\n",
       "    <tr style=\"text-align: right;\">\n",
       "      <th></th>\n",
       "      <th>id</th>\n",
       "      <th>openai_classification</th>\n",
       "    </tr>\n",
       "  </thead>\n",
       "  <tbody>\n",
       "    <tr>\n",
       "      <th>0</th>\n",
       "      <td>18674</td>\n",
       "      <td>Near major landmarks; Family-friendly; Quiet a...</td>\n",
       "    </tr>\n",
       "    <tr>\n",
       "      <th>1</th>\n",
       "      <td>23197</td>\n",
       "      <td>Central location; Family-friendly; Spacious li...</td>\n",
       "    </tr>\n",
       "    <tr>\n",
       "      <th>2</th>\n",
       "      <td>32711</td>\n",
       "      <td>Near major landmarks; Family-friendly; Cozy at...</td>\n",
       "    </tr>\n",
       "    <tr>\n",
       "      <th>3</th>\n",
       "      <td>34241</td>\n",
       "      <td>Central location; Close to cultural attraction...</td>\n",
       "    </tr>\n",
       "    <tr>\n",
       "      <th>4</th>\n",
       "      <td>34981</td>\n",
       "      <td>Spacious living areas; Family-friendly; Fully ...</td>\n",
       "    </tr>\n",
       "    <tr>\n",
       "      <th>...</th>\n",
       "      <td>...</td>\n",
       "      <td>...</td>\n",
       "    </tr>\n",
       "    <tr>\n",
       "      <th>19477</th>\n",
       "      <td>1234621063113396232</td>\n",
       "      <td>Central location; Fully equipped kitchen; Luxu...</td>\n",
       "    </tr>\n",
       "    <tr>\n",
       "      <th>19478</th>\n",
       "      <td>1234633310288552263</td>\n",
       "      <td>Central location; Ideal for couples; Luxury ap...</td>\n",
       "    </tr>\n",
       "    <tr>\n",
       "      <th>19479</th>\n",
       "      <td>1234636058660290258</td>\n",
       "      <td>Central location; Fully equipped kitchen; Luxu...</td>\n",
       "    </tr>\n",
       "    <tr>\n",
       "      <th>19480</th>\n",
       "      <td>1234659029532006287</td>\n",
       "      <td>Cozy atmosphere; Includes cleaning service; Id...</td>\n",
       "    </tr>\n",
       "    <tr>\n",
       "      <th>19481</th>\n",
       "      <td>1234677127620155445</td>\n",
       "      <td>Panoramic city views; Modern apartment; Fully ...</td>\n",
       "    </tr>\n",
       "  </tbody>\n",
       "</table>\n",
       "<p>19482 rows × 2 columns</p>\n",
       "</div>"
      ],
      "text/plain": [
       "                        id                              openai_classification\n",
       "0                    18674  Near major landmarks; Family-friendly; Quiet a...\n",
       "1                    23197  Central location; Family-friendly; Spacious li...\n",
       "2                    32711  Near major landmarks; Family-friendly; Cozy at...\n",
       "3                    34241  Central location; Close to cultural attraction...\n",
       "4                    34981  Spacious living areas; Family-friendly; Fully ...\n",
       "...                    ...                                                ...\n",
       "19477  1234621063113396232  Central location; Fully equipped kitchen; Luxu...\n",
       "19478  1234633310288552263  Central location; Ideal for couples; Luxury ap...\n",
       "19479  1234636058660290258  Central location; Fully equipped kitchen; Luxu...\n",
       "19480  1234659029532006287  Cozy atmosphere; Includes cleaning service; Id...\n",
       "19481  1234677127620155445  Panoramic city views; Modern apartment; Fully ...\n",
       "\n",
       "[19482 rows x 2 columns]"
      ]
     },
     "execution_count": 17,
     "metadata": {},
     "output_type": "execute_result"
    }
   ],
   "source": [
    "openai_rentscape_blob_barcelona_listings"
   ]
  }
 ],
 "metadata": {
  "kernelspec": {
   "display_name": "Python 3",
   "language": "python",
   "name": "python3"
  },
  "language_info": {
   "codemirror_mode": {
    "name": "ipython",
    "version": 3
   },
   "file_extension": ".py",
   "mimetype": "text/x-python",
   "name": "python",
   "nbconvert_exporter": "python",
   "pygments_lexer": "ipython3",
   "version": "3.11.9"
  }
 },
 "nbformat": 4,
 "nbformat_minor": 2
}
